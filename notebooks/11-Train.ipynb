{
 "cells": [
  {
   "cell_type": "markdown",
   "metadata": {},
   "source": [
    "# Train"
   ]
  },
  {
   "cell_type": "markdown",
   "metadata": {},
   "source": [
    "Enfim chegamos na etapa de treinamento do modelo, para esse problema vamos utilizar um modelo de boosting. Esse tipo de modelo foi escolhido devido as características encontradas no problema:  \n",
    "- Problema desbalanceado, modelos de boosting conseguem se adequar bem a esse tipo de problema devido a classificação errada incorporar um peso entre as iterações.  \n",
    "- É um modelo robusto e de fácil treinamento.  \n",
    "- Por mais que seja um modelo \"caixa-preta\", é possível trazer explicabilidade através de bibliotecas como shap e lime. "
   ]
  },
  {
   "cell_type": "code",
   "execution_count": 1,
   "metadata": {},
   "outputs": [],
   "source": [
    "import pandas as pd\n",
    "import lightgbm as lgbm\n",
    "import yaml\n",
    "import pickle\n",
    "import sys\n",
    "from sklearn.metrics import roc_auc_score\n",
    "\n",
    "sys.path.append('../')"
   ]
  },
  {
   "cell_type": "markdown",
   "metadata": {},
   "source": [
    "# Data"
   ]
  },
  {
   "cell_type": "code",
   "execution_count": 2,
   "metadata": {},
   "outputs": [],
   "source": [
    "df_train = pd.read_parquet('../data/encoded/fraud_dataset_v2_train.parquet.gzip')\n",
    "df_valid = pd.read_parquet('../data/encoded/fraud_dataset_v2_valid.parquet.gzip')\n",
    "df_test = pd.read_parquet('../data/encoded/fraud_dataset_v2_test.parquet.gzip')"
   ]
  },
  {
   "cell_type": "code",
   "execution_count": 3,
   "metadata": {},
   "outputs": [],
   "source": [
    "params = yaml.safe_load(open('../src/model/config/hp_hparams.yml', 'r'))\n",
    "selector = pickle.load(open('../model/encoders/selector.pkl', 'rb'))"
   ]
  },
  {
   "cell_type": "markdown",
   "metadata": {},
   "source": [
    "# Train"
   ]
  },
  {
   "cell_type": "code",
   "execution_count": 4,
   "metadata": {},
   "outputs": [],
   "source": [
    "model = lgbm.LGBMClassifier(\n",
    "    verbose = 0,\n",
    "    random_state = 777,\n",
    "    importance_type = 'gain',\n",
    "    # Early stopping changed to 2, to reduce overfitting\n",
    "    early_stopping_rounds = 2,\n",
    "    objective= 'binary',\n",
    "    boosting_type= 'gbdt',\n",
    "    n_jobs=-1,\n",
    "    **params\n",
    ")"
   ]
  },
  {
   "cell_type": "code",
   "execution_count": 5,
   "metadata": {},
   "outputs": [
    {
     "name": "stdout",
     "output_type": "stream",
     "text": [
      "[LightGBM] [Warning] early_stopping_round is set=2, early_stopping_rounds=2 will be ignored. Current value: early_stopping_round=2\n",
      "[LightGBM] [Warning] early_stopping_round is set=2, early_stopping_rounds=2 will be ignored. Current value: early_stopping_round=2\n"
     ]
    }
   ],
   "source": [
    "model = model.fit(selector.transform(df_train),\n",
    "                  df_train['fraude'],\n",
    "                  eval_set=[(\n",
    "                    selector.transform(df_valid),\n",
    "                    df_valid['fraude']\n",
    "                  )], \n",
    "              eval_metric='auc'\n",
    "              )"
   ]
  },
  {
   "cell_type": "code",
   "execution_count": 6,
   "metadata": {},
   "outputs": [],
   "source": [
    "y_pred_train = model.predict_proba(selector.transform(df_train))[:,1]\n",
    "y_pred_valid = model.predict_proba(selector.transform(df_valid))[:,1]\n",
    "y_pred_test = model.predict_proba(selector.transform(df_test))[:,1]"
   ]
  },
  {
   "cell_type": "code",
   "execution_count": 7,
   "metadata": {},
   "outputs": [
    {
     "name": "stdout",
     "output_type": "stream",
     "text": [
      "ROCAUC Train: 0.8858946521894506\n",
      "ROCAUC Valid: 0.8789279997746019\n",
      "ROCAUC Test: 0.8760424727223224\n",
      "\n",
      "ROCAUC@1% Train: 0.5915467034896126\n",
      "ROCAUC@1% Valid: 0.591944544138385\n",
      "ROCAUC@1% Test: 0.5769488154142223\n"
     ]
    }
   ],
   "source": [
    "print(f\"ROCAUC Train: {roc_auc_score(df_train['fraude'], y_pred_train)}\")\n",
    "print(f\"ROCAUC Valid: {roc_auc_score(df_valid['fraude'], y_pred_valid)}\")\n",
    "print(f\"ROCAUC Test: {roc_auc_score(df_test['fraude'], y_pred_test)}\\n\")\n",
    "\n",
    "print(f\"ROCAUC@1% Train: {roc_auc_score(df_train['fraude'], y_pred_train, max_fpr=0.01)}\")\n",
    "print(f\"ROCAUC@1% Valid: {roc_auc_score(df_valid['fraude'], y_pred_valid, max_fpr=0.01)}\")\n",
    "print(f\"ROCAUC@1% Test: {roc_auc_score(df_test['fraude'], y_pred_test, max_fpr=0.01)}\")"
   ]
  },
  {
   "cell_type": "markdown",
   "metadata": {},
   "source": [
    "A decisão de redução do early stopping não foi tomada em cima do dataset de teste, apenas em cima do dataset de treino e validação.  \n",
    "Considerando o dataset de treino e validação, temos uma queda de performance entre os dois, quando realizado um teste com early stopping = 5 a queda era ainda maior, por isso a redução de 5 para 2.  \n",
    "Quando olhamos conta o dataset de teste a queda é ainda maior, vamos seguir com a analise dos resultados para entender se essa queda é constante ao longo do tempo, caso seja o ideial é voltar para etapas anteriores ao treinamento (algo normal no ciclo de modelagem do CRISP-DM).  "
   ]
  },
  {
   "cell_type": "markdown",
   "metadata": {},
   "source": []
  }
 ],
 "metadata": {
  "kernelspec": {
   "display_name": ".venv",
   "language": "python",
   "name": "python3"
  },
  "language_info": {
   "codemirror_mode": {
    "name": "ipython",
    "version": 3
   },
   "file_extension": ".py",
   "mimetype": "text/x-python",
   "name": "python",
   "nbconvert_exporter": "python",
   "pygments_lexer": "ipython3",
   "version": "3.12.4"
  }
 },
 "nbformat": 4,
 "nbformat_minor": 2
}
