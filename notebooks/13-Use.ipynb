{
 "cells": [
  {
   "cell_type": "markdown",
   "metadata": {},
   "source": [
    "# Usabilidade"
   ]
  },
  {
   "cell_type": "code",
   "execution_count": 5,
   "metadata": {},
   "outputs": [],
   "source": [
    "import pandas as pd\n",
    "import numpy as np\n",
    "import pickle\n",
    "from sklearn.tree import DecisionTreeClassifier"
   ]
  },
  {
   "cell_type": "markdown",
   "metadata": {},
   "source": [
    "# Data"
   ]
  },
  {
   "cell_type": "code",
   "execution_count": 2,
   "metadata": {},
   "outputs": [],
   "source": [
    "df = pd.read_parquet('../data/encoded/fraud_dataset_v2_test.parquet.gzip')"
   ]
  },
  {
   "cell_type": "code",
   "execution_count": 7,
   "metadata": {},
   "outputs": [],
   "source": [
    "model = pickle.load(open('../model/predictors/lgbm_model.pkl', 'rb'))"
   ]
  },
  {
   "cell_type": "code",
   "execution_count": 86,
   "metadata": {},
   "outputs": [],
   "source": [
    "df['new_score'] = (model.predict_proba(df[model.feature_names_in_])[:,1]*100).round(0)\n",
    "df['score'] = (df['score']).round(0)\n",
    "df['monto_fraude'] = df['monto'] * df['fraude']\n",
    "df['monto_not_fraude'] = df['monto'] * abs(df['fraude'] - 1)"
   ]
  },
  {
   "cell_type": "code",
   "execution_count": 87,
   "metadata": {},
   "outputs": [
    {
     "data": {
      "text/html": [
       "<div>\n",
       "<style scoped>\n",
       "    .dataframe tbody tr th:only-of-type {\n",
       "        vertical-align: middle;\n",
       "    }\n",
       "\n",
       "    .dataframe tbody tr th {\n",
       "        vertical-align: top;\n",
       "    }\n",
       "\n",
       "    .dataframe thead th {\n",
       "        text-align: right;\n",
       "    }\n",
       "</style>\n",
       "<table border=\"1\" class=\"dataframe\">\n",
       "  <thead>\n",
       "    <tr style=\"text-align: right;\">\n",
       "      <th></th>\n",
       "      <th>a</th>\n",
       "      <th>b</th>\n",
       "      <th>c</th>\n",
       "      <th>d</th>\n",
       "      <th>e</th>\n",
       "      <th>f</th>\n",
       "      <th>g</th>\n",
       "      <th>h</th>\n",
       "      <th>i</th>\n",
       "      <th>j</th>\n",
       "      <th>k</th>\n",
       "      <th>l</th>\n",
       "      <th>m</th>\n",
       "      <th>n</th>\n",
       "      <th>o</th>\n",
       "      <th>p</th>\n",
       "      <th>q</th>\n",
       "      <th>r</th>\n",
       "      <th>s</th>\n",
       "      <th>fecha</th>\n",
       "      <th>monto</th>\n",
       "      <th>score</th>\n",
       "      <th>fraude</th>\n",
       "      <th>ymd</th>\n",
       "      <th>day_of_week</th>\n",
       "      <th>hour_of_day</th>\n",
       "      <th>period_of_day</th>\n",
       "      <th>vl_cat_last7d</th>\n",
       "      <th>qty_cat_last7d</th>\n",
       "      <th>vl_fraud_cat_last7d</th>\n",
       "      <th>qty_fraud_cat_last7d</th>\n",
       "      <th>br_vl_cat_last7d</th>\n",
       "      <th>br_qty_cat_last7d</th>\n",
       "      <th>new_score</th>\n",
       "      <th>monto_fraude</th>\n",
       "      <th>monto_not_fraude</th>\n",
       "    </tr>\n",
       "  </thead>\n",
       "  <tbody>\n",
       "    <tr>\n",
       "      <th>0</th>\n",
       "      <td>4</td>\n",
       "      <td>0.7550</td>\n",
       "      <td>9258.5</td>\n",
       "      <td>1.0</td>\n",
       "      <td>0.000000</td>\n",
       "      <td>33.0</td>\n",
       "      <td>BR</td>\n",
       "      <td>0</td>\n",
       "      <td>Avental Descartavel Manga Longa  - 50 Un. Tnt ...</td>\n",
       "      <td>cat_64b574b</td>\n",
       "      <td>0.376019</td>\n",
       "      <td>4008.0</td>\n",
       "      <td>0.0</td>\n",
       "      <td>1</td>\n",
       "      <td>0</td>\n",
       "      <td>N</td>\n",
       "      <td>0.02</td>\n",
       "      <td>9258</td>\n",
       "      <td>0</td>\n",
       "      <td>2020-04-15 19:58:08</td>\n",
       "      <td>124.71</td>\n",
       "      <td>72.0</td>\n",
       "      <td>0</td>\n",
       "      <td>20200415</td>\n",
       "      <td>2</td>\n",
       "      <td>19</td>\n",
       "      <td>evening</td>\n",
       "      <td>1070.50</td>\n",
       "      <td>63.0</td>\n",
       "      <td>46.75</td>\n",
       "      <td>2.0</td>\n",
       "      <td>0.043671</td>\n",
       "      <td>0.031746</td>\n",
       "      <td>7.0</td>\n",
       "      <td>0.0</td>\n",
       "      <td>124.71</td>\n",
       "    </tr>\n",
       "    <tr>\n",
       "      <th>1</th>\n",
       "      <td>4</td>\n",
       "      <td>0.7631</td>\n",
       "      <td>18923.9</td>\n",
       "      <td>50.0</td>\n",
       "      <td>0.482385</td>\n",
       "      <td>18.0</td>\n",
       "      <td>BR</td>\n",
       "      <td>23</td>\n",
       "      <td>Caneta Delineador Carimbo Olho Gatinho Longo 2...</td>\n",
       "      <td>cat_d06e653</td>\n",
       "      <td>0.154036</td>\n",
       "      <td>1704.0</td>\n",
       "      <td>1147.0</td>\n",
       "      <td>1</td>\n",
       "      <td>1</td>\n",
       "      <td>Y</td>\n",
       "      <td>0.98</td>\n",
       "      <td>18923</td>\n",
       "      <td>100</td>\n",
       "      <td>2020-04-16 16:03:10</td>\n",
       "      <td>3.54</td>\n",
       "      <td>2.0</td>\n",
       "      <td>0</td>\n",
       "      <td>20200416</td>\n",
       "      <td>3</td>\n",
       "      <td>16</td>\n",
       "      <td>afternoon</td>\n",
       "      <td>3.67</td>\n",
       "      <td>2.0</td>\n",
       "      <td>0.00</td>\n",
       "      <td>0.0</td>\n",
       "      <td>0.000000</td>\n",
       "      <td>0.000000</td>\n",
       "      <td>1.0</td>\n",
       "      <td>0.0</td>\n",
       "      <td>3.54</td>\n",
       "    </tr>\n",
       "  </tbody>\n",
       "</table>\n",
       "</div>"
      ],
      "text/plain": [
       "   a       b        c  ...  new_score  monto_fraude  monto_not_fraude\n",
       "0  4  0.7550   9258.5  ...        7.0           0.0            124.71\n",
       "1  4  0.7631  18923.9  ...        1.0           0.0              3.54\n",
       "\n",
       "[2 rows x 36 columns]"
      ]
     },
     "execution_count": 87,
     "metadata": {},
     "output_type": "execute_result"
    }
   ],
   "source": [
    "df.head(2)"
   ]
  },
  {
   "cell_type": "markdown",
   "metadata": {},
   "source": [
    "# Usabilidade"
   ]
  },
  {
   "cell_type": "markdown",
   "metadata": {},
   "source": [
    "## Scores Separados"
   ]
  },
  {
   "cell_type": "code",
   "execution_count": 88,
   "metadata": {},
   "outputs": [],
   "source": [
    "df_thresholds = (\n",
    "    df\n",
    "    .groupby(['new_score'])\n",
    "    .agg({\n",
    "        'monto' : ['count', 'sum'],\n",
    "        'fraude' : 'sum',\n",
    "        'monto_fraude' : 'sum',\n",
    "        'monto_not_fraude' : 'sum'\n",
    "    })\n",
    "    .sort_values(by=['new_score'], ascending=False)\n",
    "    .cumsum()\n",
    ")\n",
    "df_thresholds['monto_not_fraude_aprovada'] = df_thresholds['monto_not_fraude'].max() - df_thresholds['monto_not_fraude']\n",
    "df_thresholds['monto_fraude_aprovada'] = df_thresholds['monto_fraude'].max() - df_thresholds['monto_fraude']\n",
    "df_thresholds['roi'] = df_thresholds['monto_not_fraude_aprovada'] * 0.05 - df_thresholds['monto_fraude_aprovada']\n",
    "\n",
    "df_thresholds.columns = ['qty_trans', 'vl_trans', 'qty_fraud', 'vl_fraud', 'vl_not_fraud', 'vl_not_fraud_approved', 'vl_fraud_approved', 'roi']"
   ]
  },
  {
   "cell_type": "code",
   "execution_count": 89,
   "metadata": {},
   "outputs": [],
   "source": [
    "df_thresholds_old = (\n",
    "    df\n",
    "    .groupby(['score'])\n",
    "    .agg({\n",
    "        'monto' : ['count', 'sum'],\n",
    "        'fraude' : 'sum',\n",
    "        'monto_fraude' : 'sum',\n",
    "        'monto_not_fraude' : 'sum'\n",
    "    })\n",
    "    .sort_values(by=['score'], ascending=False)\n",
    "    .cumsum()\n",
    ")\n",
    "df_thresholds_old['monto_not_fraude_aprovada'] = df_thresholds_old['monto_not_fraude'].max() - df_thresholds_old['monto_not_fraude']\n",
    "df_thresholds_old['monto_fraude_aprovada'] = df_thresholds_old['monto_fraude'].max() - df_thresholds_old['monto_fraude']\n",
    "df_thresholds_old['roi'] = df_thresholds_old['monto_not_fraude_aprovada'] * 0.05 - df_thresholds_old['monto_fraude_aprovada']\n",
    "\n",
    "df_thresholds_old.columns = ['qty_trans', 'vl_trans', 'qty_fraud', 'vl_fraud', 'vl_not_fraud', 'vl_not_fraud_approved', 'vl_fraud_approved', 'roi']"
   ]
  },
  {
   "cell_type": "code",
   "execution_count": 90,
   "metadata": {},
   "outputs": [
    {
     "data": {
      "text/html": [
       "<div>\n",
       "<style scoped>\n",
       "    .dataframe tbody tr th:only-of-type {\n",
       "        vertical-align: middle;\n",
       "    }\n",
       "\n",
       "    .dataframe tbody tr th {\n",
       "        vertical-align: top;\n",
       "    }\n",
       "\n",
       "    .dataframe thead th {\n",
       "        text-align: right;\n",
       "    }\n",
       "</style>\n",
       "<table border=\"1\" class=\"dataframe\">\n",
       "  <thead>\n",
       "    <tr style=\"text-align: right;\">\n",
       "      <th></th>\n",
       "      <th>qty_trans</th>\n",
       "      <th>vl_trans</th>\n",
       "      <th>qty_fraud</th>\n",
       "      <th>vl_fraud</th>\n",
       "      <th>vl_not_fraud</th>\n",
       "      <th>vl_not_fraud_approved</th>\n",
       "      <th>vl_fraud_approved</th>\n",
       "      <th>roi</th>\n",
       "    </tr>\n",
       "    <tr>\n",
       "      <th>new_score</th>\n",
       "      <th></th>\n",
       "      <th></th>\n",
       "      <th></th>\n",
       "      <th></th>\n",
       "      <th></th>\n",
       "      <th></th>\n",
       "      <th></th>\n",
       "      <th></th>\n",
       "    </tr>\n",
       "  </thead>\n",
       "  <tbody>\n",
       "    <tr>\n",
       "      <th>4.0</th>\n",
       "      <td>18668</td>\n",
       "      <td>939276.79</td>\n",
       "      <td>1940</td>\n",
       "      <td>150389.66</td>\n",
       "      <td>788887.13</td>\n",
       "      <td>2679386.45</td>\n",
       "      <td>30280.64</td>\n",
       "      <td>103688.6825</td>\n",
       "    </tr>\n",
       "  </tbody>\n",
       "</table>\n",
       "</div>"
      ],
      "text/plain": [
       "           qty_trans   vl_trans  ...  vl_fraud_approved          roi\n",
       "new_score                        ...                                \n",
       "4.0            18668  939276.79  ...           30280.64  103688.6825\n",
       "\n",
       "[1 rows x 8 columns]"
      ]
     },
     "execution_count": 90,
     "metadata": {},
     "output_type": "execute_result"
    }
   ],
   "source": [
    "df_thresholds[df_thresholds['roi'] == df_thresholds['roi'].max()]"
   ]
  },
  {
   "cell_type": "code",
   "execution_count": 91,
   "metadata": {},
   "outputs": [
    {
     "data": {
      "text/html": [
       "<div>\n",
       "<style scoped>\n",
       "    .dataframe tbody tr th:only-of-type {\n",
       "        vertical-align: middle;\n",
       "    }\n",
       "\n",
       "    .dataframe tbody tr th {\n",
       "        vertical-align: top;\n",
       "    }\n",
       "\n",
       "    .dataframe thead th {\n",
       "        text-align: right;\n",
       "    }\n",
       "</style>\n",
       "<table border=\"1\" class=\"dataframe\">\n",
       "  <thead>\n",
       "    <tr style=\"text-align: right;\">\n",
       "      <th></th>\n",
       "      <th>qty_trans</th>\n",
       "      <th>vl_trans</th>\n",
       "      <th>qty_fraud</th>\n",
       "      <th>vl_fraud</th>\n",
       "      <th>vl_not_fraud</th>\n",
       "      <th>vl_not_fraud_approved</th>\n",
       "      <th>vl_fraud_approved</th>\n",
       "      <th>roi</th>\n",
       "    </tr>\n",
       "    <tr>\n",
       "      <th>score</th>\n",
       "      <th></th>\n",
       "      <th></th>\n",
       "      <th></th>\n",
       "      <th></th>\n",
       "      <th></th>\n",
       "      <th></th>\n",
       "      <th></th>\n",
       "      <th></th>\n",
       "    </tr>\n",
       "  </thead>\n",
       "  <tbody>\n",
       "    <tr>\n",
       "      <th>77.0</th>\n",
       "      <td>13156</td>\n",
       "      <td>722680.25</td>\n",
       "      <td>1456</td>\n",
       "      <td>113626.81</td>\n",
       "      <td>609053.44</td>\n",
       "      <td>2859220.14</td>\n",
       "      <td>67043.49</td>\n",
       "      <td>75917.517</td>\n",
       "    </tr>\n",
       "  </tbody>\n",
       "</table>\n",
       "</div>"
      ],
      "text/plain": [
       "       qty_trans   vl_trans  ...  vl_fraud_approved        roi\n",
       "score                        ...                              \n",
       "77.0       13156  722680.25  ...           67043.49  75917.517\n",
       "\n",
       "[1 rows x 8 columns]"
      ]
     },
     "execution_count": 91,
     "metadata": {},
     "output_type": "execute_result"
    }
   ],
   "source": [
    "df_thresholds_old[df_thresholds_old['roi'] == df_thresholds_old['roi'].max()]"
   ]
  },
  {
   "cell_type": "markdown",
   "metadata": {},
   "source": [
    "Observando o ROI, chegamos a conclusão de que o novo score tem um ponto de corte que traz mais lucro para a empresa, aumentando em 27k, 36%.  Além de maior captura de fraude em quantidades, aumentando em 32%.  "
   ]
  }
 ],
 "metadata": {
  "kernelspec": {
   "display_name": ".venv",
   "language": "python",
   "name": "python3"
  },
  "language_info": {
   "codemirror_mode": {
    "name": "ipython",
    "version": 3
   },
   "file_extension": ".py",
   "mimetype": "text/x-python",
   "name": "python",
   "nbconvert_exporter": "python",
   "pygments_lexer": "ipython3",
   "version": "3.12.4"
  }
 },
 "nbformat": 4,
 "nbformat_minor": 2
}
