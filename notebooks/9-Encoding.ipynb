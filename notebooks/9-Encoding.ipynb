{
 "cells": [
  {
   "cell_type": "markdown",
   "metadata": {},
   "source": [
    "# Encoding"
   ]
  },
  {
   "cell_type": "markdown",
   "metadata": {},
   "source": [
    "Nessa etapa vamos realizar o encoding das variáveis não numéricas, para conseguir passar os dados pelo modelo. Como vamos utilizar um modelo baseado em árvores, vamos utilizar um ordinal encoder, visto que o modelo consegue capturar não linearidade.  \n",
    "Além dos encoders vamos criar todos os artefatos binários necessários para montar a pipeline do modelo.    \n"
   ]
  },
  {
   "cell_type": "code",
   "execution_count": 20,
   "metadata": {},
   "outputs": [],
   "source": [
    "import pandas as pd\n",
    "from feature_engine.encoding import OrdinalEncoder\n",
    "import yaml\n",
    "import pickle\n",
    "\n",
    "import sys\n",
    "sys.path.append('../')\n",
    "from src.utils.transformers import Selector, FeatureEngineering, FixFeaturesMissing, FixFeaturesType"
   ]
  },
  {
   "cell_type": "markdown",
   "metadata": {},
   "source": [
    "# Data"
   ]
  },
  {
   "cell_type": "code",
   "execution_count": 3,
   "metadata": {},
   "outputs": [],
   "source": [
    "df = pd.read_parquet('../data/enrich/fraud_dataset_v2_train.parquet.gzip')"
   ]
  },
  {
   "cell_type": "code",
   "execution_count": 5,
   "metadata": {},
   "outputs": [],
   "source": [
    "support_features = ['o','f','n','l','a','m','s','br_qty_cat_last7d',\n",
    "                    'd','br_vl_cat_last7d','qty_fraud_cat_last7d','h',\n",
    "                    'vl_fraud_cat_last7d']"
   ]
  },
  {
   "cell_type": "code",
   "execution_count": 16,
   "metadata": {},
   "outputs": [],
   "source": [
    "config_features = yaml.safe_load(open('../src/data/config/features.yml', 'r'))"
   ]
  },
  {
   "cell_type": "code",
   "execution_count": 17,
   "metadata": {},
   "outputs": [
    {
     "data": {
      "text/plain": [
       "{'temporal_feature': 'fecha',\n",
       " 'target_feature': 'fraude',\n",
       " 'fix_type_map': {'datetime[64]': ['fecha']},\n",
       " 'fix_missing_map': {'d': -2, 'g': 'NULO', 'o': 'NULO', 'q': -1},\n",
       " 'fix_missing_numeric_features': ['b', 'c', 'f', 'l', 'm'],\n",
       " 'hard_remove_features': ['c',\n",
       "  'p',\n",
       "  'q',\n",
       "  'fecha',\n",
       "  'i',\n",
       "  'score',\n",
       "  'fraude',\n",
       "  'ymd']}"
      ]
     },
     "execution_count": 17,
     "metadata": {},
     "output_type": "execute_result"
    }
   ],
   "source": [
    "config_features"
   ]
  },
  {
   "cell_type": "markdown",
   "metadata": {},
   "source": [
    "# Encoding"
   ]
  },
  {
   "cell_type": "code",
   "execution_count": 6,
   "metadata": {},
   "outputs": [],
   "source": [
    "ord_enc = OrdinalEncoder(\n",
    "    encoding_method='arbitrary',\n",
    "    variables=df[support_features].select_dtypes(include=['object', 'string']).columns.tolist()\n",
    ").fit(df)"
   ]
  },
  {
   "cell_type": "code",
   "execution_count": 18,
   "metadata": {},
   "outputs": [
    {
     "data": {
      "text/html": [
       "<div>\n",
       "<style scoped>\n",
       "    .dataframe tbody tr th:only-of-type {\n",
       "        vertical-align: middle;\n",
       "    }\n",
       "\n",
       "    .dataframe tbody tr th {\n",
       "        vertical-align: top;\n",
       "    }\n",
       "\n",
       "    .dataframe thead th {\n",
       "        text-align: right;\n",
       "    }\n",
       "</style>\n",
       "<table border=\"1\" class=\"dataframe\">\n",
       "  <thead>\n",
       "    <tr style=\"text-align: right;\">\n",
       "      <th></th>\n",
       "      <th>a</th>\n",
       "      <th>b</th>\n",
       "      <th>c</th>\n",
       "      <th>d</th>\n",
       "      <th>e</th>\n",
       "      <th>f</th>\n",
       "      <th>g</th>\n",
       "      <th>h</th>\n",
       "      <th>i</th>\n",
       "      <th>j</th>\n",
       "      <th>k</th>\n",
       "      <th>l</th>\n",
       "      <th>m</th>\n",
       "      <th>n</th>\n",
       "      <th>o</th>\n",
       "      <th>p</th>\n",
       "      <th>q</th>\n",
       "      <th>r</th>\n",
       "      <th>s</th>\n",
       "      <th>fecha</th>\n",
       "      <th>monto</th>\n",
       "      <th>score</th>\n",
       "      <th>fraude</th>\n",
       "      <th>ymd</th>\n",
       "      <th>day_of_week</th>\n",
       "      <th>hour_of_day</th>\n",
       "      <th>period_of_day</th>\n",
       "      <th>vl_cat_last7d</th>\n",
       "      <th>qty_cat_last7d</th>\n",
       "      <th>vl_fraud_cat_last7d</th>\n",
       "      <th>qty_fraud_cat_last7d</th>\n",
       "      <th>br_vl_cat_last7d</th>\n",
       "      <th>br_qty_cat_last7d</th>\n",
       "    </tr>\n",
       "  </thead>\n",
       "  <tbody>\n",
       "    <tr>\n",
       "      <th>0</th>\n",
       "      <td>4</td>\n",
       "      <td>0.7518</td>\n",
       "      <td>42638.24</td>\n",
       "      <td>50.0</td>\n",
       "      <td>0.190210</td>\n",
       "      <td>9.0</td>\n",
       "      <td>BR</td>\n",
       "      <td>20</td>\n",
       "      <td>Mochila Impermeable Mujer Importada Premiun</td>\n",
       "      <td>cat_0cd53cb</td>\n",
       "      <td>0.364921</td>\n",
       "      <td>4338.0</td>\n",
       "      <td>366.0</td>\n",
       "      <td>1</td>\n",
       "      <td>0</td>\n",
       "      <td>Y</td>\n",
       "      <td>0.98</td>\n",
       "      <td>260445</td>\n",
       "      <td>100</td>\n",
       "      <td>2020-03-09 14:33:56</td>\n",
       "      <td>22.18</td>\n",
       "      <td>74.00</td>\n",
       "      <td>0</td>\n",
       "      <td>20200309</td>\n",
       "      <td>0</td>\n",
       "      <td>14</td>\n",
       "      <td>afternoon</td>\n",
       "      <td>964.89</td>\n",
       "      <td>26.0</td>\n",
       "      <td>0.00</td>\n",
       "      <td>0.0</td>\n",
       "      <td>0.000000</td>\n",
       "      <td>0.00</td>\n",
       "    </tr>\n",
       "    <tr>\n",
       "      <th>1</th>\n",
       "      <td>4</td>\n",
       "      <td>0.7576</td>\n",
       "      <td>34602.36</td>\n",
       "      <td>4.0</td>\n",
       "      <td>0.317697</td>\n",
       "      <td>33.0</td>\n",
       "      <td>BR</td>\n",
       "      <td>7</td>\n",
       "      <td>Placa De Rede ( Pci-e / Pci Express X1 / Mini ...</td>\n",
       "      <td>cat_41464e4</td>\n",
       "      <td>0.056129</td>\n",
       "      <td>4605.0</td>\n",
       "      <td>297.0</td>\n",
       "      <td>1</td>\n",
       "      <td>0</td>\n",
       "      <td>Y</td>\n",
       "      <td>0.06</td>\n",
       "      <td>34602</td>\n",
       "      <td>100</td>\n",
       "      <td>2020-03-16 15:07:38</td>\n",
       "      <td>10.95</td>\n",
       "      <td>28.04</td>\n",
       "      <td>0</td>\n",
       "      <td>20200316</td>\n",
       "      <td>0</td>\n",
       "      <td>15</td>\n",
       "      <td>afternoon</td>\n",
       "      <td>413.53</td>\n",
       "      <td>20.0</td>\n",
       "      <td>4.45</td>\n",
       "      <td>1.0</td>\n",
       "      <td>0.010761</td>\n",
       "      <td>0.05</td>\n",
       "    </tr>\n",
       "  </tbody>\n",
       "</table>\n",
       "</div>"
      ],
      "text/plain": [
       "   a       b  ...  br_vl_cat_last7d  br_qty_cat_last7d\n",
       "0  4  0.7518  ...          0.000000               0.00\n",
       "1  4  0.7576  ...          0.010761               0.05\n",
       "\n",
       "[2 rows x 33 columns]"
      ]
     },
     "execution_count": 18,
     "metadata": {},
     "output_type": "execute_result"
    }
   ],
   "source": [
    "ord_enc.transform(df).head(2)"
   ]
  },
  {
   "cell_type": "code",
   "execution_count": 19,
   "metadata": {},
   "outputs": [],
   "source": [
    "selector = Selector(support_features).fit(df)\n",
    "fix_type = FixFeaturesType(config_features['fix_type_map']).fit(df)\n",
    "fix_missing = FixFeaturesMissing(config_features['fix_missing_numeric_features'], \n",
    "                                 config_features['fix_missing_map']).fit(df)\n",
    "feature_engineering = FeatureEngineering().fit(df)"
   ]
  },
  {
   "cell_type": "code",
   "execution_count": 21,
   "metadata": {},
   "outputs": [],
   "source": [
    "pickle.dump(ord_enc, open('../model/encoders/ordinal_encoder.pkl', 'wb'))\n",
    "pickle.dump(selector, open('../model/encoders/selector.pkl', 'wb'))\n",
    "pickle.dump(fix_type, open('../model/encoders/fix_type.pkl', 'wb'))\n",
    "pickle.dump(fix_missing, open('../model/encoders/fix_missing.pkl', 'wb'))\n",
    "pickle.dump(feature_engineering, open('../model/encoders/feature_engineering.pkl', 'wb'))"
   ]
  }
 ],
 "metadata": {
  "kernelspec": {
   "display_name": ".venv",
   "language": "python",
   "name": "python3"
  },
  "language_info": {
   "codemirror_mode": {
    "name": "ipython",
    "version": 3
   },
   "file_extension": ".py",
   "mimetype": "text/x-python",
   "name": "python",
   "nbconvert_exporter": "python",
   "pygments_lexer": "ipython3",
   "version": "3.12.4"
  }
 },
 "nbformat": 4,
 "nbformat_minor": 2
}
